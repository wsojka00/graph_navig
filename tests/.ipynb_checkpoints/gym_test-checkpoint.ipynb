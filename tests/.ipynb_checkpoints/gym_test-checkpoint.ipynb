{
 "cells": [
  {
   "cell_type": "code",
   "execution_count": 1,
   "id": "bc203ae5",
   "metadata": {},
   "outputs": [],
   "source": [
    "import matplotlib.pyplot as plt\n",
    "import numpy as np\n",
    "import gym\n",
    "#import gym-minigrid\n",
    "from abc import ABC\n",
    "from abc import abstractmethod\n",
    "from gym.utils import seeding\n",
    "from PIL import Image\n",
    "from collections import namedtuple\n",
    "from dataclasses import dataclass\n",
    "from dataclasses import field"
   ]
  },
  {
   "cell_type": "code",
   "execution_count": 2,
   "id": "e60e9d41",
   "metadata": {},
   "outputs": [
    {
     "data": {
      "text/plain": [
       "<matplotlib.image.AxesImage at 0x2e674bf9d30>"
      ]
     },
     "execution_count": 2,
     "metadata": {},
     "output_type": "execute_result"
    },
    {
     "data": {
      "image/png": "[encoded data removed]",
      "text/plain": [
       "<Figure size 432x288 with 1 Axes>"
      ]
     },
     "metadata": {
      "needs_background": "light"
     },
     "output_type": "display_data"
    }
   ],
   "source": [
    "x = np.array([np.ones(19),\n",
    "              np.concatenate([[1], np.zeros(8), [1], np.zeros(8), [1]]),\n",
    "              np.concatenate([[1], np.zeros(8), [1], np.zeros(8), [1]]),\n",
    "              np.concatenate([[1], np.zeros(8), [1], np.zeros(8), [1]]),\n",
    "              np.concatenate([[1], np.zeros(8), [0], np.zeros(8), [1]]),\n",
    "              np.concatenate([[1], np.zeros(8), [1], np.zeros(8), [1]]),                                    \n",
    "              np.concatenate([[1], np.zeros(8), [1], np.zeros(8), [1]]),\n",
    "              np.concatenate([[1], np.zeros(8), [1], np.zeros(8), [1]]),\n",
    "              np.concatenate([[1], np.zeros(8), [1], np.zeros(8), [1]]),\n",
    "              np.concatenate([np.ones(4), [0],  np.ones(9), [0], np.ones(4)]),\n",
    "              np.concatenate([[1], np.zeros(8), [1], np.zeros(8), [1]]),\n",
    "              np.concatenate([[1], np.zeros(8), [1], np.zeros(8), [1]]),\n",
    "              np.concatenate([[1], np.zeros(8), [1], np.zeros(8), [1]]),\n",
    "              np.concatenate([[1], np.zeros(8), [1], np.zeros(8), [1]]),\n",
    "              np.concatenate([[1], np.zeros(8), [0], np.zeros(8), [1]]),\n",
    "              np.concatenate([[1], np.zeros(8), [1], np.zeros(8), [1]]),\n",
    "              np.concatenate([[1], np.zeros(8), [1], np.zeros(8), [1]]),\n",
    "              np.concatenate([[1], np.zeros(8), [1], np.zeros(8), [1]]),\n",
    "              np.ones(19)])\n",
    "start_idx = [[4, 4]]\n",
    "goal_idx = [[14, 14]]\n",
    "env_id = 'FourRoom-v0'\n",
    "\n",
    "plt.imshow(x)"
   ]
  },
  {
   "cell_type": "code",
   "execution_count": 3,
   "id": "d0ce3e25",
   "metadata": {},
   "outputs": [],
   "source": [
    "class BaseEnv(gym.Env, ABC):\n",
    "    metadata = {'render.modes': ['human', 'rgb_array'],\n",
    "                'video.frames_per_second' : 3}\n",
    "    reward_range = (-float('inf'), float('inf'))\n",
    "    \n",
    "    def __init__(self):\n",
    "        self.viewer = None\n",
    "        self.seed()\n",
    "    \n",
    "    @abstractmethod\n",
    "    def step(self, action):\n",
    "        pass\n",
    "    \n",
    "    def seed(self, seed=None):\n",
    "        self.np_random, seed = seeding.np_random(seed)\n",
    "        return [seed]\n",
    "    \n",
    "    @abstractmethod\n",
    "    def reset(self):\n",
    "        pass\n",
    "    \n",
    "    @abstractmethod\n",
    "    def get_image(self):\n",
    "        pass\n",
    "    \n",
    "    def render(self, mode='human', max_width=500):\n",
    "        img = self.get_image()\n",
    "        img = np.asarray(img).astype(np.uint8)\n",
    "        img_height, img_width = img.shape[:2]\n",
    "        ratio = max_width/img_width\n",
    "        img = Image.fromarray(img).resize([int(ratio*img_width), int(ratio*img_height)])\n",
    "        img = np.asarray(img)\n",
    "        if mode == 'rgb_array':\n",
    "            return img\n",
    "        elif mode == 'human':\n",
    "            from gym.envs.classic_control.rendering import SimpleImageViewer\n",
    "            if self.viewer is None:\n",
    "                self.viewer = SimpleImageViewer()\n",
    "            self.viewer.imshow(img)\n",
    "            \n",
    "            return self.viewer.isopen\n",
    "            \n",
    "    def close(self):\n",
    "        if self.viewer is not None:\n",
    "            self.viewer.close()\n",
    "            self.viewer = None"
   ]
  },
  {
   "cell_type": "code",
   "execution_count": 4,
   "id": "14cfe5a2",
   "metadata": {},
   "outputs": [],
   "source": [
    "class Env(BaseEnv):\n",
    "    def __init__(self):\n",
    "        super().__init__()\n",
    "        \n",
    "        self.maze = Maze()\n",
    "        self.motions = VonNeumannMotion()\n",
    "        \n",
    "        self.observation_space = Box(low=0, high=len(self.maze.objects), shape=self.maze.size, dtype=np.uint8)\n",
    "        self.action_space = Discrete(len(self.motions))\n",
    "\n",
    "    def step(self, action):\n",
    "        motion = self.motions[action]\n",
    "        current_position = self.maze.objects.agent.positions[0]\n",
    "        new_position = [current_position[0] + motion[0], current_position[1] + motion[1]]\n",
    "        valid = self._is_valid(new_position)\n",
    "        if valid:\n",
    "            self.maze.objects.agent.positions = [new_position]\n",
    "        \n",
    "        if self._is_goal(new_position):\n",
    "            reward = +1\n",
    "            done = True\n",
    "        elif not valid:\n",
    "            reward = -1\n",
    "            done = False\n",
    "        else:\n",
    "            reward = -0.01\n",
    "            done = False\n",
    "        return self.maze.to_value(), reward, done, {}\n",
    "        \n",
    "    def reset(self):\n",
    "        self.maze.objects.agent.positions = start_idx\n",
    "        self.maze.objects.goal.positions = goal_idx\n",
    "        return self.maze.to_value()\n",
    "    \n",
    "    def _is_valid(self, position):\n",
    "        nonnegative = position[0] >= 0 and position[1] >= 0\n",
    "        within_edge = position[0] < self.maze.size[0] and position[1] < self.maze.size[1]\n",
    "        passable = not self.maze.to_impassable()[position[0]][position[1]]\n",
    "        return nonnegative and within_edge and passable\n",
    "    \n",
    "    def _is_goal(self, position):\n",
    "        out = False\n",
    "        for pos in self.maze.objects.goal.positions:\n",
    "            if position[0] == pos[0] and position[1] == pos[1]:\n",
    "                out = True\n",
    "                break\n",
    "        return out\n",
    "    \n",
    "    def get_image(self):\n",
    "        return self.maze.to_rgb()"
   ]
  },
  {
   "cell_type": "code",
   "execution_count": 31,
   "id": "b6c27a91",
   "metadata": {},
   "outputs": [
    {
     "ename": "Error",
     "evalue": "Cannot re-register id: FourRoom-v0",
     "output_type": "error",
     "traceback": [
      "\u001b[1;31m---------------------------------------------------------------------------\u001b[0m",
      "\u001b[1;31mError\u001b[0m                                     Traceback (most recent call last)",
      "\u001b[1;32m<ipython-input-31-2aa5f0790c23>\u001b[0m in \u001b[0;36m<module>\u001b[1;34m\u001b[0m\n\u001b[1;32m----> 1\u001b[1;33m \u001b[0mgym\u001b[0m\u001b[1;33m.\u001b[0m\u001b[0menvs\u001b[0m\u001b[1;33m.\u001b[0m\u001b[0mregister\u001b[0m\u001b[1;33m(\u001b[0m\u001b[0mid\u001b[0m\u001b[1;33m=\u001b[0m\u001b[0menv_id\u001b[0m\u001b[1;33m,\u001b[0m \u001b[0mentry_point\u001b[0m\u001b[1;33m=\u001b[0m\u001b[0mEnv\u001b[0m\u001b[1;33m,\u001b[0m \u001b[0mmax_episode_steps\u001b[0m\u001b[1;33m=\u001b[0m\u001b[1;36m200\u001b[0m\u001b[1;33m)\u001b[0m\u001b[1;33m\u001b[0m\u001b[1;33m\u001b[0m\u001b[0m\n\u001b[0m",
      "\u001b[1;32m~\\anaconda\\lib\\site-packages\\gym\\envs\\registration.py\u001b[0m in \u001b[0;36mregister\u001b[1;34m(id, **kwargs)\u001b[0m\n\u001b[0;32m    178\u001b[0m \u001b[1;33m\u001b[0m\u001b[0m\n\u001b[0;32m    179\u001b[0m \u001b[1;32mdef\u001b[0m \u001b[0mregister\u001b[0m\u001b[1;33m(\u001b[0m\u001b[0mid\u001b[0m\u001b[1;33m,\u001b[0m \u001b[1;33m**\u001b[0m\u001b[0mkwargs\u001b[0m\u001b[1;33m)\u001b[0m\u001b[1;33m:\u001b[0m\u001b[1;33m\u001b[0m\u001b[1;33m\u001b[0m\u001b[0m\n\u001b[1;32m--> 180\u001b[1;33m     \u001b[1;32mreturn\u001b[0m \u001b[0mregistry\u001b[0m\u001b[1;33m.\u001b[0m\u001b[0mregister\u001b[0m\u001b[1;33m(\u001b[0m\u001b[0mid\u001b[0m\u001b[1;33m,\u001b[0m \u001b[1;33m**\u001b[0m\u001b[0mkwargs\u001b[0m\u001b[1;33m)\u001b[0m\u001b[1;33m\u001b[0m\u001b[1;33m\u001b[0m\u001b[0m\n\u001b[0m\u001b[0;32m    181\u001b[0m \u001b[1;33m\u001b[0m\u001b[0m\n\u001b[0;32m    182\u001b[0m \u001b[1;33m\u001b[0m\u001b[0m\n",
      "\u001b[1;32m~\\anaconda\\lib\\site-packages\\gym\\envs\\registration.py\u001b[0m in \u001b[0;36mregister\u001b[1;34m(self, id, **kwargs)\u001b[0m\n\u001b[0;32m    169\u001b[0m     \u001b[1;32mdef\u001b[0m \u001b[0mregister\u001b[0m\u001b[1;33m(\u001b[0m\u001b[0mself\u001b[0m\u001b[1;33m,\u001b[0m \u001b[0mid\u001b[0m\u001b[1;33m,\u001b[0m \u001b[1;33m**\u001b[0m\u001b[0mkwargs\u001b[0m\u001b[1;33m)\u001b[0m\u001b[1;33m:\u001b[0m\u001b[1;33m\u001b[0m\u001b[1;33m\u001b[0m\u001b[0m\n\u001b[0;32m    170\u001b[0m         \u001b[1;32mif\u001b[0m \u001b[0mid\u001b[0m \u001b[1;32min\u001b[0m \u001b[0mself\u001b[0m\u001b[1;33m.\u001b[0m\u001b[0menv_specs\u001b[0m\u001b[1;33m:\u001b[0m\u001b[1;33m\u001b[0m\u001b[1;33m\u001b[0m\u001b[0m\n\u001b[1;32m--> 171\u001b[1;33m             \u001b[1;32mraise\u001b[0m \u001b[0merror\u001b[0m\u001b[1;33m.\u001b[0m\u001b[0mError\u001b[0m\u001b[1;33m(\u001b[0m\u001b[1;34m\"Cannot re-register id: {}\"\u001b[0m\u001b[1;33m.\u001b[0m\u001b[0mformat\u001b[0m\u001b[1;33m(\u001b[0m\u001b[0mid\u001b[0m\u001b[1;33m)\u001b[0m\u001b[1;33m)\u001b[0m\u001b[1;33m\u001b[0m\u001b[1;33m\u001b[0m\u001b[0m\n\u001b[0m\u001b[0;32m    172\u001b[0m         \u001b[0mself\u001b[0m\u001b[1;33m.\u001b[0m\u001b[0menv_specs\u001b[0m\u001b[1;33m[\u001b[0m\u001b[0mid\u001b[0m\u001b[1;33m]\u001b[0m \u001b[1;33m=\u001b[0m \u001b[0mEnvSpec\u001b[0m\u001b[1;33m(\u001b[0m\u001b[0mid\u001b[0m\u001b[1;33m,\u001b[0m \u001b[1;33m**\u001b[0m\u001b[0mkwargs\u001b[0m\u001b[1;33m)\u001b[0m\u001b[1;33m\u001b[0m\u001b[1;33m\u001b[0m\u001b[0m\n\u001b[0;32m    173\u001b[0m \u001b[1;33m\u001b[0m\u001b[0m\n",
      "\u001b[1;31mError\u001b[0m: Cannot re-register id: FourRoom-v0"
     ]
    }
   ],
   "source": [
    "#gym.envs.register(id=env_id, entry_point=Env, max_episode_steps=200)"
   ]
  },
  {
   "cell_type": "code",
   "execution_count": 5,
   "id": "2dfecaed",
   "metadata": {},
   "outputs": [],
   "source": [
    "class BaseMaze(ABC):\n",
    "    def __init__(self, **kwargs):\n",
    "        objects = self.make_objects()\n",
    "        assert all([isinstance(obj, Object) for obj in objects])\n",
    "        self.objects = namedtuple('Objects', map(lambda x: x.name, objects), defaults=objects)()\n",
    "        \n",
    "        for key, value in kwargs.items():\n",
    "            setattr(self, key, value)\n",
    "    \n",
    "    @property\n",
    "    @abstractmethod\n",
    "    def size(self):\n",
    "        r\"\"\"Returns a pair of (height, width). \"\"\"\n",
    "        pass\n",
    "        \n",
    "    @abstractmethod\n",
    "    def make_objects(self):\n",
    "        r\"\"\"Returns a list of defined objects. \"\"\"\n",
    "        pass\n",
    "    \n",
    "    def _convert(self, x, name):\n",
    "        for obj in self.objects:\n",
    "            pos = np.asarray(obj.positions)\n",
    "            x[pos[:, 0], pos[:, 1]] = getattr(obj, name, None)\n",
    "        return x\n",
    "    \n",
    "    def to_name(self):\n",
    "        x = np.empty(self.size, dtype=object)\n",
    "        return self._convert(x, 'name')\n",
    "    \n",
    "    def to_value(self):\n",
    "        x = np.empty(self.size, dtype=int)\n",
    "        return self._convert(x, 'value')\n",
    "    \n",
    "    def to_rgb(self):\n",
    "        x = np.empty((*self.size, 3), dtype=np.uint8)\n",
    "        return self._convert(x, 'rgb')\n",
    "    \n",
    "    def to_impassable(self):\n",
    "        x = np.empty(self.size, dtype=bool)\n",
    "        return self._convert(x, 'impassable')\n",
    "    \n",
    "    def __repr__(self):\n",
    "        return f'{self.__class__.__name__}{self.size}'"
   ]
  },
  {
   "cell_type": "code",
   "execution_count": 6,
   "id": "0e3b6fd5",
   "metadata": {},
   "outputs": [],
   "source": [
    "class Maze(BaseMaze):\n",
    "    @property\n",
    "    def size(self):\n",
    "        return x.shape\n",
    "    \n",
    "    def make_objects(self):\n",
    "        free = Object('free', 0, color.free, False, np.stack(np.where(x == 0), axis=1))\n",
    "        obstacle = Object('obstacle', 1, color.obstacle, True, np.stack(np.where(x == 1), axis=1))\n",
    "        agent = Object('agent', 2, color.agent, False, [])\n",
    "        goal = Object('goal', 3, color.goal, False, [])\n",
    "        return free, obstacle, agent, goal"
   ]
  },
  {
   "cell_type": "code",
   "execution_count": 7,
   "id": "4789a913",
   "metadata": {},
   "outputs": [],
   "source": [
    "@dataclass\n",
    "class Object:\n",
    "    r\"\"\"Defines an object with some of its properties. \n",
    "    \n",
    "    An object can be an obstacle, free space or food etc. It can also have properties like impassable, positions.\n",
    "    \n",
    "    \"\"\"\n",
    "    name: str\n",
    "    value: int\n",
    "    rgb: tuple\n",
    "    impassable: bool\n",
    "    positions: list = field(default_factory=list)"
   ]
  },
  {
   "cell_type": "code",
   "execution_count": 8,
   "id": "cfbfb80b",
   "metadata": {},
   "outputs": [],
   "source": [
    "class DeepMindColor:\n",
    "    obstacle = (160, 160, 160)\n",
    "    free = (224, 224, 224)\n",
    "    agent = (51, 153, 255)\n",
    "    goal = (51, 255, 51)\n",
    "    button = (102, 0, 204)\n",
    "    interruption = (255, 0, 255)\n",
    "    box = (0, 102, 102)\n",
    "    lava = (255, 0, 0)\n",
    "    water = (0, 0, 255)"
   ]
  },
  {
   "cell_type": "code",
   "execution_count": 9,
   "id": "2fcb91b2",
   "metadata": {},
   "outputs": [],
   "source": [
    "\n",
    "VonNeumannMotion = namedtuple('VonNeumannMotion', \n",
    "                              ['north', 'south', 'west', 'east'], \n",
    "                              defaults=[[-1, 0], [1, 0], [0, -1], [0, 1]])\n",
    "\n",
    "\n",
    "MooreMotion = namedtuple('MooreMotion', \n",
    "                         ['north', 'south', 'west', 'east', \n",
    "                          'northwest', 'northeast', 'southwest', 'southeast'], \n",
    "                         defaults=[[-1, 0], [1, 0], [0, -1], [0, 1], \n",
    "                                   [-1, -1], [-1, 1], [1, -1], [1, 1]])"
   ]
  },
  {
   "cell_type": "code",
   "execution_count": 10,
   "id": "ab5b4e1c",
   "metadata": {},
   "outputs": [
    {
     "ename": "UnregisteredEnv",
     "evalue": "No registered env with id: FourRoom-v0",
     "output_type": "error",
     "traceback": [
      "\u001b[1;31m---------------------------------------------------------------------------\u001b[0m",
      "\u001b[1;31mKeyError\u001b[0m                                  Traceback (most recent call last)",
      "\u001b[1;32m~\\anaconda\\lib\\site-packages\\gym\\envs\\registration.py\u001b[0m in \u001b[0;36mspec\u001b[1;34m(self, path)\u001b[0m\n\u001b[0;32m    149\u001b[0m         \u001b[1;32mtry\u001b[0m\u001b[1;33m:\u001b[0m\u001b[1;33m\u001b[0m\u001b[1;33m\u001b[0m\u001b[0m\n\u001b[1;32m--> 150\u001b[1;33m             \u001b[1;32mreturn\u001b[0m \u001b[0mself\u001b[0m\u001b[1;33m.\u001b[0m\u001b[0menv_specs\u001b[0m\u001b[1;33m[\u001b[0m\u001b[0mid\u001b[0m\u001b[1;33m]\u001b[0m\u001b[1;33m\u001b[0m\u001b[1;33m\u001b[0m\u001b[0m\n\u001b[0m\u001b[0;32m    151\u001b[0m         \u001b[1;32mexcept\u001b[0m \u001b[0mKeyError\u001b[0m\u001b[1;33m:\u001b[0m\u001b[1;33m\u001b[0m\u001b[1;33m\u001b[0m\u001b[0m\n",
      "\u001b[1;31mKeyError\u001b[0m: 'FourRoom-v0'",
      "\nDuring handling of the above exception, another exception occurred:\n",
      "\u001b[1;31mUnregisteredEnv\u001b[0m                           Traceback (most recent call last)",
      "\u001b[1;32m<ipython-input-10-5d8e2e15d0f0>\u001b[0m in \u001b[0;36m<module>\u001b[1;34m\u001b[0m\n\u001b[1;32m----> 1\u001b[1;33m \u001b[0menv\u001b[0m \u001b[1;33m=\u001b[0m \u001b[0mgym\u001b[0m\u001b[1;33m.\u001b[0m\u001b[0mmake\u001b[0m\u001b[1;33m(\u001b[0m\u001b[0menv_id\u001b[0m\u001b[1;33m)\u001b[0m\u001b[1;33m\u001b[0m\u001b[1;33m\u001b[0m\u001b[0m\n\u001b[0m\u001b[0;32m      2\u001b[0m \u001b[0menv\u001b[0m\u001b[1;33m.\u001b[0m\u001b[0mreset\u001b[0m\u001b[1;33m(\u001b[0m\u001b[1;33m)\u001b[0m\u001b[1;33m\u001b[0m\u001b[1;33m\u001b[0m\u001b[0m\n\u001b[0;32m      3\u001b[0m \u001b[0mimg\u001b[0m \u001b[1;33m=\u001b[0m \u001b[0menv\u001b[0m\u001b[1;33m.\u001b[0m\u001b[0mrender\u001b[0m\u001b[1;33m(\u001b[0m\u001b[1;34m'rgb_array'\u001b[0m\u001b[1;33m)\u001b[0m\u001b[1;33m\u001b[0m\u001b[1;33m\u001b[0m\u001b[0m\n\u001b[0;32m      4\u001b[0m \u001b[0mplt\u001b[0m\u001b[1;33m.\u001b[0m\u001b[0mimshow\u001b[0m\u001b[1;33m(\u001b[0m\u001b[0mimg\u001b[0m\u001b[1;33m)\u001b[0m\u001b[1;33m\u001b[0m\u001b[1;33m\u001b[0m\u001b[0m\n",
      "\u001b[1;32m~\\anaconda\\lib\\site-packages\\gym\\envs\\registration.py\u001b[0m in \u001b[0;36mmake\u001b[1;34m(id, **kwargs)\u001b[0m\n\u001b[0;32m    182\u001b[0m \u001b[1;33m\u001b[0m\u001b[0m\n\u001b[0;32m    183\u001b[0m \u001b[1;32mdef\u001b[0m \u001b[0mmake\u001b[0m\u001b[1;33m(\u001b[0m\u001b[0mid\u001b[0m\u001b[1;33m,\u001b[0m \u001b[1;33m**\u001b[0m\u001b[0mkwargs\u001b[0m\u001b[1;33m)\u001b[0m\u001b[1;33m:\u001b[0m\u001b[1;33m\u001b[0m\u001b[1;33m\u001b[0m\u001b[0m\n\u001b[1;32m--> 184\u001b[1;33m     \u001b[1;32mreturn\u001b[0m \u001b[0mregistry\u001b[0m\u001b[1;33m.\u001b[0m\u001b[0mmake\u001b[0m\u001b[1;33m(\u001b[0m\u001b[0mid\u001b[0m\u001b[1;33m,\u001b[0m \u001b[1;33m**\u001b[0m\u001b[0mkwargs\u001b[0m\u001b[1;33m)\u001b[0m\u001b[1;33m\u001b[0m\u001b[1;33m\u001b[0m\u001b[0m\n\u001b[0m\u001b[0;32m    185\u001b[0m \u001b[1;33m\u001b[0m\u001b[0m\n\u001b[0;32m    186\u001b[0m \u001b[1;33m\u001b[0m\u001b[0m\n",
      "\u001b[1;32m~\\anaconda\\lib\\site-packages\\gym\\envs\\registration.py\u001b[0m in \u001b[0;36mmake\u001b[1;34m(self, path, **kwargs)\u001b[0m\n\u001b[0;32m    103\u001b[0m         \u001b[1;32melse\u001b[0m\u001b[1;33m:\u001b[0m\u001b[1;33m\u001b[0m\u001b[1;33m\u001b[0m\u001b[0m\n\u001b[0;32m    104\u001b[0m             \u001b[0mlogger\u001b[0m\u001b[1;33m.\u001b[0m\u001b[0minfo\u001b[0m\u001b[1;33m(\u001b[0m\u001b[1;34m\"Making new env: %s\"\u001b[0m\u001b[1;33m,\u001b[0m \u001b[0mpath\u001b[0m\u001b[1;33m)\u001b[0m\u001b[1;33m\u001b[0m\u001b[1;33m\u001b[0m\u001b[0m\n\u001b[1;32m--> 105\u001b[1;33m         \u001b[0mspec\u001b[0m \u001b[1;33m=\u001b[0m \u001b[0mself\u001b[0m\u001b[1;33m.\u001b[0m\u001b[0mspec\u001b[0m\u001b[1;33m(\u001b[0m\u001b[0mpath\u001b[0m\u001b[1;33m)\u001b[0m\u001b[1;33m\u001b[0m\u001b[1;33m\u001b[0m\u001b[0m\n\u001b[0m\u001b[0;32m    106\u001b[0m         \u001b[0menv\u001b[0m \u001b[1;33m=\u001b[0m \u001b[0mspec\u001b[0m\u001b[1;33m.\u001b[0m\u001b[0mmake\u001b[0m\u001b[1;33m(\u001b[0m\u001b[1;33m**\u001b[0m\u001b[0mkwargs\u001b[0m\u001b[1;33m)\u001b[0m\u001b[1;33m\u001b[0m\u001b[1;33m\u001b[0m\u001b[0m\n\u001b[0;32m    107\u001b[0m         \u001b[1;31m# We used to have people override _reset/_step rather than\u001b[0m\u001b[1;33m\u001b[0m\u001b[1;33m\u001b[0m\u001b[1;33m\u001b[0m\u001b[0m\n",
      "\u001b[1;32m~\\anaconda\\lib\\site-packages\\gym\\envs\\registration.py\u001b[0m in \u001b[0;36mspec\u001b[1;34m(self, path)\u001b[0m\n\u001b[0;32m    165\u001b[0m                 )\n\u001b[0;32m    166\u001b[0m             \u001b[1;32melse\u001b[0m\u001b[1;33m:\u001b[0m\u001b[1;33m\u001b[0m\u001b[1;33m\u001b[0m\u001b[0m\n\u001b[1;32m--> 167\u001b[1;33m                 \u001b[1;32mraise\u001b[0m \u001b[0merror\u001b[0m\u001b[1;33m.\u001b[0m\u001b[0mUnregisteredEnv\u001b[0m\u001b[1;33m(\u001b[0m\u001b[1;34m\"No registered env with id: {}\"\u001b[0m\u001b[1;33m.\u001b[0m\u001b[0mformat\u001b[0m\u001b[1;33m(\u001b[0m\u001b[0mid\u001b[0m\u001b[1;33m)\u001b[0m\u001b[1;33m)\u001b[0m\u001b[1;33m\u001b[0m\u001b[1;33m\u001b[0m\u001b[0m\n\u001b[0m\u001b[0;32m    168\u001b[0m \u001b[1;33m\u001b[0m\u001b[0m\n\u001b[0;32m    169\u001b[0m     \u001b[1;32mdef\u001b[0m \u001b[0mregister\u001b[0m\u001b[1;33m(\u001b[0m\u001b[0mself\u001b[0m\u001b[1;33m,\u001b[0m \u001b[0mid\u001b[0m\u001b[1;33m,\u001b[0m \u001b[1;33m**\u001b[0m\u001b[0mkwargs\u001b[0m\u001b[1;33m)\u001b[0m\u001b[1;33m:\u001b[0m\u001b[1;33m\u001b[0m\u001b[1;33m\u001b[0m\u001b[0m\n",
      "\u001b[1;31mUnregisteredEnv\u001b[0m: No registered env with id: FourRoom-v0"
     ]
    }
   ],
   "source": [
    "env = gym.make(env_id)\n",
    "env.reset()\n",
    "img = env.render('rgb_array')\n",
    "plt.imshow(img)"
   ]
  },
  {
   "cell_type": "code",
   "execution_count": null,
   "id": "48998bcb",
   "metadata": {},
   "outputs": [],
   "source": []
  }
 ],
 "metadata": {
  "kernelspec": {
   "display_name": "Python 3",
   "language": "python",
   "name": "python3"
  },
  "language_info": {
   "codemirror_mode": {
    "name": "ipython",
    "version": 3
   },
   "file_extension": ".py",
   "mimetype": "text/x-python",
   "name": "python",
   "nbconvert_exporter": "python",
   "pygments_lexer": "ipython3",
   "version": "3.8.8"
  }
 },
 "nbformat": 4,
 "nbformat_minor": 5
}
