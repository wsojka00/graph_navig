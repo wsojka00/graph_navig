{
 "cells": [
  {
   "cell_type": "markdown",
   "metadata": {},
   "source": [
    "# Generating maze with rewards and agent\n",
    "\n",
    "Defining maze environment with objects, such as obstacles, agent and reward."
   ]
  },
  {
   "cell_type": "code",
   "execution_count": 29,
   "metadata": {},
   "outputs": [],
   "source": [
    "import matplotlib.pyplot as plt\n",
    "import numpy as np\n",
    "from scipy.sparse import csr_matrix\n",
    "from scipy.sparse.csgraph import dijkstra\n",
    "\n",
    "from mazelab import VonNeumannMotion\n",
    "from mazelab import MooreMotion"
   ]
  },
  {
   "cell_type": "code",
   "execution_count": 30,
   "metadata": {},
   "outputs": [
    {
     "name": "stdout",
     "output_type": "stream",
     "text": [
      "#####################\n",
      "#...................#\n",
      "#...#...#...#...#####\n",
      "#...#...#...#.......#\n",
      "#...#########...#####\n",
      "#...........#.......#\n",
      "#...#####...#...#####\n",
      "#.......#...#.......#\n",
      "#...#####...#########\n",
      "#.......#...........#\n",
      "#####################\n"
     ]
    }
   ],
   "source": [
    "## in ASCII \\# for walls and \\. for a possible way\n",
    "\n",
    "## in numpy array \\1 for walls and \\0 for a possible way\n",
    "\n",
    "f = open('2.txt', 'r')\n",
    "maze_txt = f.read()\n",
    "print(maze_txt)"
   ]
  },
  {
   "cell_type": "code",
   "execution_count": 31,
   "metadata": {},
   "outputs": [
    {
     "name": "stdout",
     "output_type": "stream",
     "text": [
      "231\n"
     ]
    },
    {
     "data": {
      "text/plain": [
       "array([[1, 1, 1, 1, 1, 1, 1, 1, 1, 1, 1, 1, 1, 1, 1, 1, 1, 1, 1, 1, 1],\n",
       "       [1, 0, 0, 0, 0, 0, 0, 0, 0, 0, 0, 0, 0, 0, 0, 0, 0, 0, 0, 0, 1],\n",
       "       [1, 0, 0, 0, 1, 0, 0, 0, 1, 0, 0, 0, 1, 0, 0, 0, 1, 1, 1, 1, 1],\n",
       "       [1, 0, 0, 0, 1, 0, 0, 0, 1, 0, 0, 0, 1, 0, 0, 0, 0, 0, 0, 0, 1],\n",
       "       [1, 0, 0, 0, 1, 1, 1, 1, 1, 1, 1, 1, 1, 0, 0, 0, 1, 1, 1, 1, 1],\n",
       "       [1, 0, 0, 0, 0, 0, 0, 0, 0, 0, 0, 0, 1, 0, 0, 0, 0, 0, 0, 0, 1],\n",
       "       [1, 0, 0, 0, 1, 1, 1, 1, 1, 0, 0, 0, 1, 0, 0, 0, 1, 1, 1, 1, 1],\n",
       "       [1, 0, 0, 0, 0, 0, 0, 0, 1, 0, 0, 0, 1, 0, 0, 0, 0, 0, 0, 0, 1],\n",
       "       [1, 0, 0, 0, 1, 1, 1, 1, 1, 0, 0, 0, 1, 1, 1, 1, 1, 1, 1, 1, 1],\n",
       "       [1, 0, 0, 0, 0, 0, 0, 0, 1, 0, 0, 0, 0, 0, 0, 0, 0, 0, 0, 0, 1],\n",
       "       [1, 1, 1, 1, 1, 1, 1, 1, 1, 1, 1, 1, 1, 1, 1, 1, 1, 1, 1, 1, 1]])"
      ]
     },
     "execution_count": 31,
     "metadata": {},
     "output_type": "execute_result"
    }
   ],
   "source": [
    "maze_lst = []\n",
    "for i in maze_txt:\n",
    "    if i == \"#\":\n",
    "        maze_lst.append(1)\n",
    "    elif i == \".\":\n",
    "        maze_lst.append(0)\n",
    "    else:\n",
    "        continue\n",
    "print(len(maze_lst))\n",
    "\n",
    "maze = np.array(maze_lst)\n",
    "maze = maze.reshape(11,21)\n",
    "maze"
   ]
  },
  {
   "cell_type": "code",
   "execution_count": 32,
   "metadata": {},
   "outputs": [
    {
     "data": {
      "image/png": "[encoded data removed]",
      "text/plain": [
       "<Figure size 432x288 with 1 Axes>"
      ]
     },
     "metadata": {
      "needs_background": "light"
     },
     "output_type": "display_data"
    }
   ],
   "source": [
    "start_idx = [[1,18]]\n",
    "goal_idx = [[9, 7]]\n",
    "\n",
    "plt.imshow(maze)\n",
    "\n",
    "env_id = 'MazeRoom-v1'"
   ]
  },
  {
   "cell_type": "code",
   "execution_count": 33,
   "metadata": {},
   "outputs": [],
   "source": [
    "# Four room task\n",
    "#x = np.array([np.ones(19),\n",
    "#              np.concatenate([[1], np.zeros(8), [1], np.zeros(8), [1]]),\n",
    "#              np.concatenate([[1], np.zeros(8), [1], np.zeros(8), [1]]),\n",
    "#              np.concatenate([[1], np.zeros(8), [1], np.zeros(8), [1]]),\n",
    "#              np.concatenate([[1], np.zeros(8), [0], np.zeros(8), [1]]),\n",
    "#              np.concatenate([[1], np.zeros(8), [1], np.zeros(8), [1]]),                                    \n",
    "#              np.concatenate([[1], np.zeros(8), [1], np.zeros(8), [1]]),\n",
    "#              np.concatenate([[1], np.zeros(8), [1], np.zeros(8), [1]]),\n",
    "#              np.concatenate([[1], np.zeros(8), [1], np.zeros(8), [1]]),\n",
    "#              np.concatenate([np.ones(4), [0],  np.ones(9), [0], np.ones(4)]),\n",
    "#              np.concatenate([[1], np.zeros(8), [1], np.zeros(8), [1]]),\n",
    "#              np.concatenate([[1], np.zeros(8), [1], np.zeros(8), [1]]),\n",
    "#              np.concatenate([[1], np.zeros(8), [1], np.zeros(8), [1]]),\n",
    "#              np.concatenate([[1], np.zeros(8), [1], np.zeros(8), [1]]),\n",
    "#              np.concatenate([[1], np.zeros(8), [0], np.zeros(8), [1]]),\n",
    "#              np.concatenate([[1], np.zeros(8), [1], np.zeros(8), [1]]),\n",
    "#              np.concatenate([[1], np.zeros(8), [1], np.zeros(8), [1]]),\n",
    "#              np.concatenate([[1], np.zeros(8), [1], np.zeros(8), [1]]),\n",
    "#              np.ones(19)])\n",
    "\n",
    "#start_idx = [[4, 4]] \n",
    "#goal_idx = [[14, 14]] \n",
    "#env_id = 'FourRoom-v0'\n",
    "\n",
    "#plt.imshow(x)"
   ]
  },
  {
   "cell_type": "code",
   "execution_count": 34,
   "metadata": {},
   "outputs": [],
   "source": [
    "import numpy as np\n",
    "from mazelab import BaseMaze\n",
    "from mazelab import Object\n",
    "from mazelab import DeepMindColor as color\n",
    "\n",
    "\n",
    "class Maze(BaseMaze):\n",
    "    @property\n",
    "    def size(self):\n",
    "        return maze.shape\n",
    "    \n",
    "    def make_objects(self):\n",
    "        free = Object('free', 0, color.free, False, np.stack(np.where(maze == 0), axis=1))\n",
    "        obstacle = Object('obstacle', 1, color.obstacle, True, np.stack(np.where(maze == 1), axis=1))\n",
    "        agent = Object('agent', 2, color.agent, False, [])\n",
    "        goal = Object('goal', 3, color.goal, False, [])\n",
    "        return free, obstacle, agent, goal"
   ]
  },
  {
   "cell_type": "code",
   "execution_count": 35,
   "metadata": {},
   "outputs": [],
   "source": [
    "from mazelab import BaseEnv\n",
    "from mazelab import VonNeumannMotion\n",
    "import gym\n",
    "from gym.spaces import Box\n",
    "from gym.spaces import Discrete\n",
    "\n",
    "\n",
    "class Env(BaseEnv):\n",
    "    def __init__(self):\n",
    "        super().__init__()\n",
    "        \n",
    "        self.maze = Maze()\n",
    "        self.motions = VonNeumannMotion()\n",
    "        \n",
    "        self.observation_space = Box(low=0, high=len(self.maze.objects), shape=self.maze.size, dtype=np.uint8)\n",
    "        self.action_space = Discrete(len(self.motions))\n",
    "        \n",
    "    def step(self, action):\n",
    "        motion = self.motions[action]\n",
    "        current_position = self.maze.objects.agent.positions[0]\n",
    "        new_position = [current_position[0] + motion[0], current_position[1] + motion[1]]\n",
    "        valid = self._is_valid(new_position)\n",
    "        if valid:\n",
    "            self.maze.objects.agent.positions = [new_position]\n",
    "        \n",
    "        if self._is_goal(new_position):\n",
    "            reward = +1\n",
    "            done = True\n",
    "        elif not valid:\n",
    "            reward = -1\n",
    "            done = False\n",
    "        else:\n",
    "            reward = -0.01\n",
    "            done = False\n",
    "        return self.maze.to_value(), reward, done, {}\n",
    "        \n",
    "    def reset(self):\n",
    "        self.maze.objects.agent.positions = start_idx\n",
    "        self.maze.objects.goal.positions = goal_idx\n",
    "        return self.maze.to_value()\n",
    "    \n",
    "    def _is_valid(self, position):\n",
    "        nonnegative = position[0] >= 0 and position[1] >= 0\n",
    "        within_edge = position[0] < self.maze.size[0] and position[1] < self.maze.size[1]\n",
    "        passable = not self.maze.to_impassable()[position[0]][position[1]]\n",
    "        return nonnegative and within_edge and passable\n",
    "    \n",
    "    def _is_goal(self, position):\n",
    "        out = False\n",
    "        for pos in self.maze.objects.goal.positions:\n",
    "            if position[0] == pos[0] and position[1] == pos[1]:\n",
    "                out = True\n",
    "                break\n",
    "        return out\n",
    "    \n",
    "    def get_image(self):\n",
    "        return self.maze.to_rgb()"
   ]
  },
  {
   "cell_type": "code",
   "execution_count": 36,
   "metadata": {},
   "outputs": [],
   "source": [
    "from gym.envs.registration import register\n",
    "\n",
    "\n",
    "gym.envs.register(\n",
    "     id=env_id,\n",
    "     entry_point=Env,\n",
    "     max_episode_steps=20,\n",
    ")"
   ]
  },
  {
   "cell_type": "code",
   "execution_count": 37,
   "metadata": {},
   "outputs": [
    {
     "data": {
      "text/plain": [
       "<matplotlib.image.AxesImage at 0x1e71e0b56a0>"
      ]
     },
     "execution_count": 37,
     "metadata": {},
     "output_type": "execute_result"
    },
    {
     "data": {
      "image/png": "[encoded data removed]",
      "text/plain": [
       "<Figure size 432x288 with 1 Axes>"
      ]
     },
     "metadata": {
      "needs_background": "light"
     },
     "output_type": "display_data"
    }
   ],
   "source": [
    "env = gym.make(env_id)\n",
    "env.reset()\n",
    "img = env.render('rgb_array')\n",
    "plt.imshow(img)"
   ]
  },
  {
   "cell_type": "markdown",
   "metadata": {},
   "source": [
    "# Finding the shortest way\n",
    "\n",
    "[Dijkstra's algorithm](https://en.wikipedia.org/wiki/Dijkstra%27s_algorithm) is an algorithm for finding the shortest path between nodes in a graph, producing shortest-path tree."
   ]
  },
  {
   "cell_type": "code",
   "execution_count": 38,
   "metadata": {},
   "outputs": [
    {
     "name": "stdout",
     "output_type": "stream",
     "text": [
      "[2, 2, 2, 2, 2, 2, 2, 2, 2, 2, 2, 2, 2, 2, 2, 1, 1, 1, 1, 1, 1, 1, 1, 3, 3, 3, 3]\n"
     ]
    },
    {
     "ename": "PermissionError",
     "evalue": "[WinError 32] The process cannot access the file because it is being used by another process: './openaigym.video.0.16772.video000000.mp4'",
     "output_type": "error",
     "traceback": [
      "\u001b[1;31m---------------------------------------------------------------------------\u001b[0m",
      "\u001b[1;31mPermissionError\u001b[0m                           Traceback (most recent call last)",
      "\u001b[1;32m~\\AppData\\Local\\Temp/ipykernel_16772/2155311559.py\u001b[0m in \u001b[0;36m<module>\u001b[1;34m\u001b[0m\n\u001b[0;32m     10\u001b[0m \u001b[0mprint\u001b[0m\u001b[1;33m(\u001b[0m\u001b[0mactions\u001b[0m\u001b[1;33m)\u001b[0m\u001b[1;33m\u001b[0m\u001b[1;33m\u001b[0m\u001b[0m\n\u001b[0;32m     11\u001b[0m \u001b[1;33m\u001b[0m\u001b[0m\n\u001b[1;32m---> 12\u001b[1;33m \u001b[0menv\u001b[0m \u001b[1;33m=\u001b[0m \u001b[0mgym\u001b[0m\u001b[1;33m.\u001b[0m\u001b[0mwrappers\u001b[0m\u001b[1;33m.\u001b[0m\u001b[0mMonitor\u001b[0m\u001b[1;33m(\u001b[0m\u001b[0menv\u001b[0m\u001b[1;33m,\u001b[0m \u001b[1;34m'./'\u001b[0m\u001b[1;33m,\u001b[0m \u001b[0mforce\u001b[0m\u001b[1;33m=\u001b[0m\u001b[1;32mTrue\u001b[0m\u001b[1;33m)\u001b[0m\u001b[1;33m\u001b[0m\u001b[1;33m\u001b[0m\u001b[0m\n\u001b[0m\u001b[0;32m     13\u001b[0m \u001b[0mrewards\u001b[0m \u001b[1;33m=\u001b[0m \u001b[1;36m0.0\u001b[0m\u001b[1;33m\u001b[0m\u001b[1;33m\u001b[0m\u001b[0m\n\u001b[0;32m     14\u001b[0m \u001b[0menv\u001b[0m\u001b[1;33m.\u001b[0m\u001b[0mreset\u001b[0m\u001b[1;33m(\u001b[0m\u001b[1;33m)\u001b[0m\u001b[1;33m\u001b[0m\u001b[1;33m\u001b[0m\u001b[0m\n",
      "\u001b[1;32m~\\AppData\\Local\\Programs\\Python\\Python39\\lib\\site-packages\\gym\\wrappers\\monitor.py\u001b[0m in \u001b[0;36m__init__\u001b[1;34m(self, env, directory, video_callable, force, resume, write_upon_reset, uid, mode)\u001b[0m\n\u001b[0;32m     24\u001b[0m         \u001b[0mself\u001b[0m\u001b[1;33m.\u001b[0m\u001b[0menv_semantics_autoreset\u001b[0m \u001b[1;33m=\u001b[0m \u001b[0menv\u001b[0m\u001b[1;33m.\u001b[0m\u001b[0mmetadata\u001b[0m\u001b[1;33m.\u001b[0m\u001b[0mget\u001b[0m\u001b[1;33m(\u001b[0m\u001b[1;34m'semantics.autoreset'\u001b[0m\u001b[1;33m)\u001b[0m\u001b[1;33m\u001b[0m\u001b[1;33m\u001b[0m\u001b[0m\n\u001b[0;32m     25\u001b[0m \u001b[1;33m\u001b[0m\u001b[0m\n\u001b[1;32m---> 26\u001b[1;33m         self._start(directory, video_callable, force, resume,\n\u001b[0m\u001b[0;32m     27\u001b[0m                             write_upon_reset, uid, mode)\n\u001b[0;32m     28\u001b[0m \u001b[1;33m\u001b[0m\u001b[0m\n",
      "\u001b[1;32m~\\AppData\\Local\\Programs\\Python\\Python39\\lib\\site-packages\\gym\\wrappers\\monitor.py\u001b[0m in \u001b[0;36m_start\u001b[1;34m(self, directory, video_callable, force, resume, write_upon_reset, uid, mode)\u001b[0m\n\u001b[0;32m     82\u001b[0m         \u001b[1;31m# Check on whether we need to clear anything\u001b[0m\u001b[1;33m\u001b[0m\u001b[1;33m\u001b[0m\u001b[1;33m\u001b[0m\u001b[0m\n\u001b[0;32m     83\u001b[0m         \u001b[1;32mif\u001b[0m \u001b[0mforce\u001b[0m\u001b[1;33m:\u001b[0m\u001b[1;33m\u001b[0m\u001b[1;33m\u001b[0m\u001b[0m\n\u001b[1;32m---> 84\u001b[1;33m             \u001b[0mclear_monitor_files\u001b[0m\u001b[1;33m(\u001b[0m\u001b[0mdirectory\u001b[0m\u001b[1;33m)\u001b[0m\u001b[1;33m\u001b[0m\u001b[1;33m\u001b[0m\u001b[0m\n\u001b[0m\u001b[0;32m     85\u001b[0m         \u001b[1;32melif\u001b[0m \u001b[1;32mnot\u001b[0m \u001b[0mresume\u001b[0m\u001b[1;33m:\u001b[0m\u001b[1;33m\u001b[0m\u001b[1;33m\u001b[0m\u001b[0m\n\u001b[0;32m     86\u001b[0m             \u001b[0mtraining_manifests\u001b[0m \u001b[1;33m=\u001b[0m \u001b[0mdetect_training_manifests\u001b[0m\u001b[1;33m(\u001b[0m\u001b[0mdirectory\u001b[0m\u001b[1;33m)\u001b[0m\u001b[1;33m\u001b[0m\u001b[1;33m\u001b[0m\u001b[0m\n",
      "\u001b[1;32m~\\AppData\\Local\\Programs\\Python\\Python39\\lib\\site-packages\\gym\\wrappers\\monitor.py\u001b[0m in \u001b[0;36mclear_monitor_files\u001b[1;34m(training_dir)\u001b[0m\n\u001b[0;32m    253\u001b[0m     \u001b[0mlogger\u001b[0m\u001b[1;33m.\u001b[0m\u001b[0minfo\u001b[0m\u001b[1;33m(\u001b[0m\u001b[1;34m'Clearing %d monitor files from previous run (because force=True was provided)'\u001b[0m\u001b[1;33m,\u001b[0m \u001b[0mlen\u001b[0m\u001b[1;33m(\u001b[0m\u001b[0mfiles\u001b[0m\u001b[1;33m)\u001b[0m\u001b[1;33m)\u001b[0m\u001b[1;33m\u001b[0m\u001b[1;33m\u001b[0m\u001b[0m\n\u001b[0;32m    254\u001b[0m     \u001b[1;32mfor\u001b[0m \u001b[0mfile\u001b[0m \u001b[1;32min\u001b[0m \u001b[0mfiles\u001b[0m\u001b[1;33m:\u001b[0m\u001b[1;33m\u001b[0m\u001b[1;33m\u001b[0m\u001b[0m\n\u001b[1;32m--> 255\u001b[1;33m         \u001b[0mos\u001b[0m\u001b[1;33m.\u001b[0m\u001b[0munlink\u001b[0m\u001b[1;33m(\u001b[0m\u001b[0mfile\u001b[0m\u001b[1;33m)\u001b[0m\u001b[1;33m\u001b[0m\u001b[1;33m\u001b[0m\u001b[0m\n\u001b[0m\u001b[0;32m    256\u001b[0m \u001b[1;33m\u001b[0m\u001b[0m\n\u001b[0;32m    257\u001b[0m \u001b[1;32mdef\u001b[0m \u001b[0mcapped_cubic_video_schedule\u001b[0m\u001b[1;33m(\u001b[0m\u001b[0mepisode_id\u001b[0m\u001b[1;33m)\u001b[0m\u001b[1;33m:\u001b[0m\u001b[1;33m\u001b[0m\u001b[1;33m\u001b[0m\u001b[0m\n",
      "\u001b[1;31mPermissionError\u001b[0m: [WinError 32] The process cannot access the file because it is being used by another process: './openaigym.video.0.16772.video000000.mp4'"
     ]
    }
   ],
   "source": [
    "from mazelab.solvers import dijkstra_solver\n",
    "\n",
    "# https://github.com/zuoxingdong/mazelab/blob/master/mazelab/solvers/dijkstra_solver.py\n",
    "\n",
    "impassable_array = env.unwrapped.maze.to_impassable()\n",
    "motions = env.unwrapped.motions\n",
    "start = env.unwrapped.maze.objects.agent.positions[0]\n",
    "goal = env.unwrapped.maze.objects.goal.positions[0]\n",
    "actions = dijkstra_solver(impassable_array, motions, start, goal)\n",
    "print(actions)\n",
    "\n",
    "env = gym.wrappers.Monitor(env, './', force=True)\n",
    "rewards = 0.0\n",
    "env.reset()\n",
    "\n",
    "for action in actions:\n",
    "    _, reward, _, _ = env.step(action)\n",
    "    rewards += reward    \n",
    "env.close()\n",
    "\n",
    "print(rewards)"
   ]
  },
  {
   "cell_type": "code",
   "execution_count": 20,
   "metadata": {},
   "outputs": [
    {
     "ename": "IndexError",
     "evalue": "list index out of range",
     "output_type": "error",
     "traceback": [
      "\u001b[1;31m---------------------------------------------------------------------------\u001b[0m",
      "\u001b[1;31mIndexError\u001b[0m                                Traceback (most recent call last)",
      "\u001b[1;32m~\\AppData\\Local\\Temp/ipykernel_4236/3997445832.py\u001b[0m in \u001b[0;36m<module>\u001b[1;34m\u001b[0m\n\u001b[0;32m      2\u001b[0m \u001b[1;32mfrom\u001b[0m \u001b[0mIPython\u001b[0m\u001b[1;33m.\u001b[0m\u001b[0mdisplay\u001b[0m \u001b[1;32mimport\u001b[0m \u001b[0mImage\u001b[0m\u001b[1;33m\u001b[0m\u001b[1;33m\u001b[0m\u001b[0m\n\u001b[0;32m      3\u001b[0m \u001b[1;32mfrom\u001b[0m \u001b[0mpathlib\u001b[0m \u001b[1;32mimport\u001b[0m \u001b[0mPath\u001b[0m\u001b[1;33m\u001b[0m\u001b[1;33m\u001b[0m\u001b[0m\n\u001b[1;32m----> 4\u001b[1;33m \u001b[0mf\u001b[0m \u001b[1;33m=\u001b[0m \u001b[0mlist\u001b[0m\u001b[1;33m(\u001b[0m\u001b[0mPath\u001b[0m\u001b[1;33m(\u001b[0m\u001b[1;34m'./'\u001b[0m\u001b[1;33m)\u001b[0m\u001b[1;33m.\u001b[0m\u001b[0mglob\u001b[0m\u001b[1;33m(\u001b[0m\u001b[1;34m'*.mp4'\u001b[0m\u001b[1;33m)\u001b[0m\u001b[1;33m)\u001b[0m\u001b[1;33m[\u001b[0m\u001b[1;36m0\u001b[0m\u001b[1;33m]\u001b[0m\u001b[1;33m\u001b[0m\u001b[1;33m\u001b[0m\u001b[0m\n\u001b[0m\u001b[0;32m      5\u001b[0m \u001b[0mreader\u001b[0m \u001b[1;33m=\u001b[0m \u001b[0mimageio\u001b[0m\u001b[1;33m.\u001b[0m\u001b[0mget_reader\u001b[0m\u001b[1;33m(\u001b[0m\u001b[0mf\u001b[0m\u001b[1;33m)\u001b[0m\u001b[1;33m\u001b[0m\u001b[1;33m\u001b[0m\u001b[0m\n\u001b[0;32m      6\u001b[0m \u001b[0mf\u001b[0m \u001b[1;33m=\u001b[0m \u001b[1;34mf'./{env_id}.gif'\u001b[0m\u001b[1;33m\u001b[0m\u001b[1;33m\u001b[0m\u001b[0m\n",
      "\u001b[1;31mIndexError\u001b[0m: list index out of range"
     ]
    }
   ],
   "source": [
    "import imageio\n",
    "from IPython.display import Image\n",
    "from pathlib import Path\n",
    "f = list(Path('./').glob('*.mp4'))[0]\n",
    "reader = imageio.get_reader(f)\n",
    "f = f'./{env_id}.gif'\n",
    "with imageio.get_writer(f, fps=3) as writer:\n",
    "    [writer.append_data(img) for img in reader]\n",
    "Image(f)"
   ]
  },
  {
   "cell_type": "markdown",
   "metadata": {},
   "source": [
    "# Transforming maze into a graph\n",
    "\n",
    "Goal of this phase is to create proper graph representation of an environment using [NetworkX](https://networkx.org/documentation/stable/tutorial.html)."
   ]
  },
  {
   "cell_type": "code",
   "execution_count": 18,
   "metadata": {},
   "outputs": [],
   "source": [
    "import networkx as nx\n",
    "import pylab as plt\n",
    "\n",
    "G = nx.DiGraph()\n",
    "#go node by node and check if his neighbour is available \n"
   ]
  },
  {
   "cell_type": "code",
   "execution_count": 25,
   "metadata": {},
   "outputs": [
    {
     "data": {
      "text/plain": [
       "32"
      ]
     },
     "execution_count": 25,
     "metadata": {},
     "output_type": "execute_result"
    }
   ],
   "source": [
    "for idx in range(len(maze.flatten())):\n",
    "    if maze.flatten()[idx]==0:\n",
    "        G.add_node(idx)\n",
    "        \n",
    "G.number_of_nodes()"
   ]
  }
 ],
 "metadata": {
  "interpreter": {
   "hash": "499d684f497a86f648d7633ff0df87494c91fb7579fceb5e60d32df83479110f"
  },
  "kernelspec": {
   "display_name": "Python 3.9.6 64-bit",
   "name": "python3"
  },
  "language_info": {
   "codemirror_mode": {
    "name": "ipython",
    "version": 3
   },
   "file_extension": ".py",
   "mimetype": "text/x-python",
   "name": "python",
   "nbconvert_exporter": "python",
   "pygments_lexer": "ipython3",
   "version": "3.9.6"
  },
  "orig_nbformat": 4
 },
 "nbformat": 4,
 "nbformat_minor": 2
}
